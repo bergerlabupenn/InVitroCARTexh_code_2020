{
 "cells": [
  {
   "cell_type": "code",
   "execution_count": 2,
   "metadata": {},
   "outputs": [
    {
     "data": {
      "text/plain": [
       "loadloom (generic function with 1 method)"
      ]
     },
     "execution_count": 2,
     "metadata": {},
     "output_type": "execute_result"
    }
   ],
   "source": [
    "using CellFishing\n",
    "using HDF5\n",
    "using DocOpt\n",
    "\n",
    "using Dates\n",
    "using Random\n",
    "\n",
    "## Function to load loom file\n",
    "function loadloom(datafile)\n",
    "    HDF5.h5open(datafile) do file\n",
    "        counts = Matrix{Int}(read(file, \"/matrix\")')\n",
    "        featurenames = read(file, \"/row_attrs/Gene\")\n",
    "        cellnames = read(file, \"/col_attrs/CellID\")\n",
    "        return (counts=counts, featurenames=featurenames, cellnames=cellnames)\n",
    "    end\n",
    "end"
   ]
  },
  {
   "cell_type": "code",
   "execution_count": 3,
   "metadata": {},
   "outputs": [
    {
     "data": {
      "text/plain": [
       "\"Day0.loom.cf\""
      ]
     },
     "execution_count": 3,
     "metadata": {},
     "output_type": "execute_result"
    }
   ],
   "source": [
    "## Create database\n",
    "datafile = \"/Users/parisasamareh/Desktop/mount/CART_exh_sc_analysis/cellfishing_output/Day0.loom\"\n",
    "data = loadloom(datafile)\n",
    "features = CellFishing.selectfeatures(data.counts, data.featurenames)\n",
    "database = CellFishing.CellIndex(data.counts, features, metadata=data.cellnames, keep_counts=true)\n",
    "dbfile = string(basename(datafile), \".cf\")\n",
    "# CellFishing.save(dbfile, database)\n",
    "# database = CellFishing.load(dbfile)"
   ]
  },
  {
   "cell_type": "code",
   "execution_count": 4,
   "metadata": {},
   "outputs": [
    {
     "data": {
      "text/plain": [
       "(counts = [0 0 … 0 0; 0 0 … 0 0; … ; 0 0 … 0 0; 0 0 … 0 0], featurenames = [\"AL627309.1\", \"AL627309.3\", \"AL669831.5\", \"LINC00115\", \"FAM41C\", \"AL645608.1\", \"SAMD11\", \"NOC2L\", \"KLHL17\", \"PLEKHN1\"  …  \"MT-CYB\", \"BX004987.1\", \"AC145212.1\", \"MAFIP\", \"AC011043.1\", \"AL592183.1\", \"AC007325.4\", \"AL354822.1\", \"AC004556.1\", \"AC240274.1\"], cellnames = [\"AAACCCAAGCCATTCA\", \"AAACCCAAGTGTGTTC\", \"AAACCCACAAGCCATT\", \"AAACCCAGTAAGATCA\", \"AAACCCAGTAGACAAT\", \"AAACCCAGTCCCAAAT\", \"AAACCCAGTTCGGCTG\", \"AAACCCATCACCTACC\", \"AAACCCATCACCTCAC\", \"AAACCCATCCGCGATG\"  …  \"TTTGTTGAGCAAATGT\", \"TTTGTTGAGGTAACTA\", \"TTTGTTGCACACCGAC\", \"TTTGTTGCAGAGAGGG\", \"TTTGTTGGTCACAATC\", \"TTTGTTGGTCTCAGAT\", \"TTTGTTGGTCTTCAAG\", \"TTTGTTGTCAAACGTC\", \"TTTGTTGTCGCAACAT\", \"TTTGTTGTCTTGGATG\"])"
      ]
     },
     "execution_count": 4,
     "metadata": {},
     "output_type": "execute_result"
    }
   ],
   "source": [
    "## Loading query data\n",
    "query_datafile = \"/Users/parisasamareh/Desktop/mount/CART_exh_sc_analysis/cellfishing_output/Day20.loom\"\n",
    "query_data = loadloom(query_datafile)"
   ]
  },
  {
   "cell_type": "code",
   "execution_count": null,
   "metadata": {},
   "outputs": [],
   "source": [
    "## Use 10 neighbors and 20 neighbors\n",
    "\n",
    "neighbors = CellFishing.findneighbors(1, query_data.counts, query_data.featurenames, database)\n",
    "degs = CellFishing.finddegs(query_data.counts, query_data.featurenames, neighbors.indexes[1,:], database)\n",
    "\n",
    "using DelimitedFiles\n",
    "open(\"/Users/parisasamareh/Desktop/mount/CART_exh_sc_analysis/cellfishing_output/diff_names_10.tsv\", \"w\") do io\n",
    "    writedlm(io, degs.names)\n",
    "end\n",
    "\n",
    "open(\"/Users/parisasamareh/Desktop/mount/CART_exh_sc_analysis/cellfishing_output/diff_neg_10.tsv\", \"w\") do io\n",
    "    writedlm(io, degs.negatives)\n",
    "end\n",
    "\n",
    "open(\"/Users/parisasamareh/Desktop/mount/CART_exh_sc_analysis/cellfishing_output/diff_pos_10.tsv\", \"w\") do io\n",
    "    writedlm(io, degs.positives)\n",
    "end\n"
   ]
  },
  {
   "cell_type": "code",
   "execution_count": 1,
   "metadata": {},
   "outputs": [
    {
     "ename": "UndefVarError",
     "evalue": "UndefVarError: query_data not defined",
     "output_type": "error",
     "traceback": [
      "UndefVarError: query_data not defined",
      "",
      "Stacktrace:",
      " [1] top-level scope at In[1]:1"
     ]
    }
   ],
   "source": [
    "query_data.cell_names\n",
    "neighbors.indexes[1,:]"
   ]
  },
  {
   "cell_type": "code",
   "execution_count": 7,
   "metadata": {},
   "outputs": [],
   "source": [
    "## Use 10 neighbors and 20 neighbors\n",
    "\n",
    "degs = CellFishing.finddegs(query_data.counts, query_data.featurenames, neighbors.indexes[1,:], database, k=20)\n",
    "\n",
    "using DelimitedFiles\n",
    "open(\"/Users/parisasamareh/Desktop/mount/CART_exh_sc_analysis/cellfishing_output/diff_names_20.tsv\", \"w\") do io\n",
    "    writedlm(io, degs.names)\n",
    "end\n",
    "\n",
    "open(\"/Users/parisasamareh/Desktop/mount/CART_exh_sc_analysis/cellfishing_output/diff_neg_20.tsv\", \"w\") do io\n",
    "    writedlm(io, degs.negatives)\n",
    "end\n",
    "\n",
    "open(\"/Users/parisasamareh/Desktop/mount/CART_exh_sc_analysis/cellfishing_output/diff_pos_20.tsv\", \"w\") do io\n",
    "    writedlm(io, degs.positives)\n",
    "end\n",
    "\n"
   ]
  },
  {
   "cell_type": "code",
   "execution_count": 8,
   "metadata": {},
   "outputs": [],
   "source": [
    "## Create database for filtered day0\n",
    "datafile = \"/Users/parisasamareh/Desktop/mount/CART_exh_sc_analysis/cellfishing_output/Day0_filtered.loom\"\n",
    "data = loadloom(datafile)\n",
    "features = CellFishing.selectfeatures(data.counts, data.featurenames)\n",
    "database = CellFishing.CellIndex(data.counts, features, metadata=data.cellnames, keep_counts=true)\n",
    "dbfile = string(basename(datafile), \".cf\")\n",
    "# CellFishing.save(dbfile, database)\n",
    "# database = CellFishing.load(dbfile)\n",
    "\n",
    "## Loading query data\n",
    "query_datafile = \"/Users/parisasamareh/Desktop/mount/CART_exh_sc_analysis/cellfishing_output/Day20_filtered.loom\"\n",
    "query_data = loadloom(query_datafile)\n",
    "\n",
    "## Use 10 neighbors and 20 neighbors\n",
    "neighbors = CellFishing.findneighbors(1, query_data.counts, query_data.featurenames, database)\n",
    "degs = CellFishing.finddegs(query_data.counts, query_data.featurenames, neighbors.indexes[1,:], database)\n",
    "\n",
    "using DelimitedFiles\n",
    "open(\"/Users/parisasamareh/Desktop/mount/CART_exh_sc_analysis/cellfishing_output/diff_names_filtered_10.tsv\", \"w\") do io\n",
    "    writedlm(io, degs.names)\n",
    "end\n",
    "\n",
    "open(\"/Users/parisasamareh/Desktop/mount/CART_exh_sc_analysis/cellfishing_output/diff_neg_filtered_10.tsv\", \"w\") do io\n",
    "    writedlm(io, degs.negatives)\n",
    "end\n",
    "\n",
    "open(\"/Users/parisasamareh/Desktop/mount/CART_exh_sc_analysis/cellfishing_output/diff_pos_filtered_10.tsv\", \"w\") do io\n",
    "    writedlm(io, degs.positives)\n",
    "end\n",
    "\n",
    "## Use 10 neighbors and 20 neighbors\n",
    "\n",
    "degs = CellFishing.finddegs(query_data.counts, query_data.featurenames, neighbors.indexes[1,:], database, k=20)\n",
    "\n",
    "using DelimitedFiles\n",
    "open(\"/Users/parisasamareh/Desktop/mount/CART_exh_sc_analysis/cellfishing_output/diff_names_filtered_20.tsv\", \"w\") do io\n",
    "    writedlm(io, degs.names)\n",
    "end\n",
    "\n",
    "open(\"/Users/parisasamareh/Desktop/mount/CART_exh_sc_analysis/cellfishing_output/diff_neg_filtered_20.tsv\", \"w\") do io\n",
    "    writedlm(io, degs.negatives)\n",
    "end\n",
    "\n",
    "open(\"/Users/parisasamareh/Desktop/mount/CART_exh_sc_analysis/cellfishing_output/diff_pos_filtered_20.tsv\", \"w\") do io\n",
    "    writedlm(io, degs.positives)\n",
    "end\n",
    "\n"
   ]
  },
  {
   "cell_type": "code",
   "execution_count": null,
   "metadata": {},
   "outputs": [],
   "source": []
  }
 ],
 "metadata": {
  "kernelspec": {
   "display_name": "Julia 1.3.0",
   "language": "julia",
   "name": "julia-1.3"
  },
  "language_info": {
   "file_extension": ".jl",
   "mimetype": "application/julia",
   "name": "julia",
   "version": "1.3.0"
  }
 },
 "nbformat": 4,
 "nbformat_minor": 2
}
